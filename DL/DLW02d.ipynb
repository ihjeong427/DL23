{
  "nbformat": 4,
  "nbformat_minor": 0,
  "metadata": {
    "colab": {
      "provenance": [],
      "include_colab_link": true
    },
    "kernelspec": {
      "name": "python3",
      "display_name": "Python 3"
    },
    "language_info": {
      "name": "python"
    }
  },
  "cells": [
    {
      "cell_type": "markdown",
      "metadata": {
        "id": "view-in-github",
        "colab_type": "text"
      },
      "source": [
        "<a href=\"https://colab.research.google.com/github/ihjeong427/DL23/blob/main/DL/DLW02d.ipynb\" target=\"_parent\"><img src=\"https://colab.research.google.com/assets/colab-badge.svg\" alt=\"Open In Colab\"/></a>"
      ]
    },
    {
      "cell_type": "markdown",
      "source": [
        "---\n",
        "# 📗 Topic [2]: Coding basic #2\n",
        "---\n",
        "Keywords:\n",
        "\n",
        "+ variables\n",
        "+ **operators**\n",
        "+ **data types: list and dictionary**"
      ],
      "metadata": {
        "id": "k4A5_MYHpcNQ"
      }
    },
    {
      "cell_type": "markdown",
      "source": [
        "Your github IDs [here](https://docs.google.com/spreadsheets/d/17SX51lCqOdtvC7cAGoX5tP9fKwVdGY5sRzMg2pXh9uk/edit#gid=0) - revised 0327"
      ],
      "metadata": {
        "id": "mUVgzk50XMkt"
      }
    },
    {
      "cell_type": "markdown",
      "source": [
        "## [1] Variables"
      ],
      "metadata": {
        "id": "93gQaEo1RX63"
      }
    },
    {
      "cell_type": "markdown",
      "source": [
        "+ **A variable** is a named storage location that holds a value.\n",
        "+ Variables can be used **to store values** such as numbers, strings, lists, or other data types. \n",
        "+ The value of a variable can change throughout the execution of a program. \n",
        "+ To declare a variable in Python, you need to assign a value to it using the **equal (=) sign.**"
      ],
      "metadata": {
        "id": "jJT4hD1teuJr"
      }
    },
    {
      "cell_type": "code",
      "source": [
        "x = 10\n",
        "y = \"Hello, class!\"\n",
        "z = [1, 2, 3]"
      ],
      "metadata": {
        "id": "Xes87bY2X45M"
      },
      "execution_count": 1,
      "outputs": []
    },
    {
      "cell_type": "markdown",
      "source": [
        "↗️ In the above example, 'x' is assigned the value of 10, 'y' is assigned the value of \"Hello, World!\", and 'z' is assigned the value of [1, 2, 3]."
      ],
      "metadata": {
        "id": "ulw6QsP5ZiKp"
      }
    },
    {
      "cell_type": "code",
      "source": [
        "# We can assign a link or a function\n",
        "import pandas as pd\n",
        "url = \"https://github.com/MK316/Spring2023/raw/main/data/att_sample.csv\"\n",
        "data = pd.read_csv(url)\n",
        "data"
      ],
      "metadata": {
        "id": "_7bvpJt2aQmg",
        "outputId": "f93e027f-3b45-4697-fbe0-5204de5c34b9",
        "colab": {
          "base_uri": "https://localhost:8080/",
          "height": 488
        }
      },
      "execution_count": 2,
      "outputs": [
        {
          "output_type": "execute_result",
          "data": {
            "text/plain": [
              "      Names\n",
              "0      Mary\n",
              "1      John\n",
              "2       Tim\n",
              "3       Bob\n",
              "4     Sarah\n",
              "5      Kate\n",
              "6     Marie\n",
              "7   Johnson\n",
              "8      Mike\n",
              "9     Harry\n",
              "10      Jin\n",
              "11      Sam\n",
              "12     Paul\n",
              "13  Natalie"
            ],
            "text/html": [
              "\n",
              "  <div id=\"df-8e53ff9f-31aa-44af-9c9e-420a6383aada\">\n",
              "    <div class=\"colab-df-container\">\n",
              "      <div>\n",
              "<style scoped>\n",
              "    .dataframe tbody tr th:only-of-type {\n",
              "        vertical-align: middle;\n",
              "    }\n",
              "\n",
              "    .dataframe tbody tr th {\n",
              "        vertical-align: top;\n",
              "    }\n",
              "\n",
              "    .dataframe thead th {\n",
              "        text-align: right;\n",
              "    }\n",
              "</style>\n",
              "<table border=\"1\" class=\"dataframe\">\n",
              "  <thead>\n",
              "    <tr style=\"text-align: right;\">\n",
              "      <th></th>\n",
              "      <th>Names</th>\n",
              "    </tr>\n",
              "  </thead>\n",
              "  <tbody>\n",
              "    <tr>\n",
              "      <th>0</th>\n",
              "      <td>Mary</td>\n",
              "    </tr>\n",
              "    <tr>\n",
              "      <th>1</th>\n",
              "      <td>John</td>\n",
              "    </tr>\n",
              "    <tr>\n",
              "      <th>2</th>\n",
              "      <td>Tim</td>\n",
              "    </tr>\n",
              "    <tr>\n",
              "      <th>3</th>\n",
              "      <td>Bob</td>\n",
              "    </tr>\n",
              "    <tr>\n",
              "      <th>4</th>\n",
              "      <td>Sarah</td>\n",
              "    </tr>\n",
              "    <tr>\n",
              "      <th>5</th>\n",
              "      <td>Kate</td>\n",
              "    </tr>\n",
              "    <tr>\n",
              "      <th>6</th>\n",
              "      <td>Marie</td>\n",
              "    </tr>\n",
              "    <tr>\n",
              "      <th>7</th>\n",
              "      <td>Johnson</td>\n",
              "    </tr>\n",
              "    <tr>\n",
              "      <th>8</th>\n",
              "      <td>Mike</td>\n",
              "    </tr>\n",
              "    <tr>\n",
              "      <th>9</th>\n",
              "      <td>Harry</td>\n",
              "    </tr>\n",
              "    <tr>\n",
              "      <th>10</th>\n",
              "      <td>Jin</td>\n",
              "    </tr>\n",
              "    <tr>\n",
              "      <th>11</th>\n",
              "      <td>Sam</td>\n",
              "    </tr>\n",
              "    <tr>\n",
              "      <th>12</th>\n",
              "      <td>Paul</td>\n",
              "    </tr>\n",
              "    <tr>\n",
              "      <th>13</th>\n",
              "      <td>Natalie</td>\n",
              "    </tr>\n",
              "  </tbody>\n",
              "</table>\n",
              "</div>\n",
              "      <button class=\"colab-df-convert\" onclick=\"convertToInteractive('df-8e53ff9f-31aa-44af-9c9e-420a6383aada')\"\n",
              "              title=\"Convert this dataframe to an interactive table.\"\n",
              "              style=\"display:none;\">\n",
              "        \n",
              "  <svg xmlns=\"http://www.w3.org/2000/svg\" height=\"24px\"viewBox=\"0 0 24 24\"\n",
              "       width=\"24px\">\n",
              "    <path d=\"M0 0h24v24H0V0z\" fill=\"none\"/>\n",
              "    <path d=\"M18.56 5.44l.94 2.06.94-2.06 2.06-.94-2.06-.94-.94-2.06-.94 2.06-2.06.94zm-11 1L8.5 8.5l.94-2.06 2.06-.94-2.06-.94L8.5 2.5l-.94 2.06-2.06.94zm10 10l.94 2.06.94-2.06 2.06-.94-2.06-.94-.94-2.06-.94 2.06-2.06.94z\"/><path d=\"M17.41 7.96l-1.37-1.37c-.4-.4-.92-.59-1.43-.59-.52 0-1.04.2-1.43.59L10.3 9.45l-7.72 7.72c-.78.78-.78 2.05 0 2.83L4 21.41c.39.39.9.59 1.41.59.51 0 1.02-.2 1.41-.59l7.78-7.78 2.81-2.81c.8-.78.8-2.07 0-2.86zM5.41 20L4 18.59l7.72-7.72 1.47 1.35L5.41 20z\"/>\n",
              "  </svg>\n",
              "      </button>\n",
              "      \n",
              "  <style>\n",
              "    .colab-df-container {\n",
              "      display:flex;\n",
              "      flex-wrap:wrap;\n",
              "      gap: 12px;\n",
              "    }\n",
              "\n",
              "    .colab-df-convert {\n",
              "      background-color: #E8F0FE;\n",
              "      border: none;\n",
              "      border-radius: 50%;\n",
              "      cursor: pointer;\n",
              "      display: none;\n",
              "      fill: #1967D2;\n",
              "      height: 32px;\n",
              "      padding: 0 0 0 0;\n",
              "      width: 32px;\n",
              "    }\n",
              "\n",
              "    .colab-df-convert:hover {\n",
              "      background-color: #E2EBFA;\n",
              "      box-shadow: 0px 1px 2px rgba(60, 64, 67, 0.3), 0px 1px 3px 1px rgba(60, 64, 67, 0.15);\n",
              "      fill: #174EA6;\n",
              "    }\n",
              "\n",
              "    [theme=dark] .colab-df-convert {\n",
              "      background-color: #3B4455;\n",
              "      fill: #D2E3FC;\n",
              "    }\n",
              "\n",
              "    [theme=dark] .colab-df-convert:hover {\n",
              "      background-color: #434B5C;\n",
              "      box-shadow: 0px 1px 3px 1px rgba(0, 0, 0, 0.15);\n",
              "      filter: drop-shadow(0px 1px 2px rgba(0, 0, 0, 0.3));\n",
              "      fill: #FFFFFF;\n",
              "    }\n",
              "  </style>\n",
              "\n",
              "      <script>\n",
              "        const buttonEl =\n",
              "          document.querySelector('#df-8e53ff9f-31aa-44af-9c9e-420a6383aada button.colab-df-convert');\n",
              "        buttonEl.style.display =\n",
              "          google.colab.kernel.accessAllowed ? 'block' : 'none';\n",
              "\n",
              "        async function convertToInteractive(key) {\n",
              "          const element = document.querySelector('#df-8e53ff9f-31aa-44af-9c9e-420a6383aada');\n",
              "          const dataTable =\n",
              "            await google.colab.kernel.invokeFunction('convertToInteractive',\n",
              "                                                     [key], {});\n",
              "          if (!dataTable) return;\n",
              "\n",
              "          const docLinkHtml = 'Like what you see? Visit the ' +\n",
              "            '<a target=\"_blank\" href=https://colab.research.google.com/notebooks/data_table.ipynb>data table notebook</a>'\n",
              "            + ' to learn more about interactive tables.';\n",
              "          element.innerHTML = '';\n",
              "          dataTable['output_type'] = 'display_data';\n",
              "          await google.colab.output.renderOutput(dataTable, element);\n",
              "          const docLink = document.createElement('div');\n",
              "          docLink.innerHTML = docLinkHtml;\n",
              "          element.appendChild(docLink);\n",
              "        }\n",
              "      </script>\n",
              "    </div>\n",
              "  </div>\n",
              "  "
            ]
          },
          "metadata": {},
          "execution_count": 2
        }
      ]
    },
    {
      "cell_type": "markdown",
      "source": [
        "url data - 변수임(variable), 밑에서 또 쓸 수 있는데 type하기 싫으니까.. read csv - 엑셀에 있는 file을 읽어라. pandas를 사용해서. data 라고 하면 읽은 값을 보여주는 것."
      ],
      "metadata": {
        "id": "r0kMvcwBdgRt"
      }
    },
    {
      "cell_type": "markdown",
      "source": [
        "## Commenting '#'\n",
        "\n",
        "- In Python, the # symbol is used to indicate comment lines. A comment is a line of text in a code that is ignored by the Python interpreter and is used to provide explanations or notes for the reader of the code.\n",
        "\n",
        "## Uncommenting shortcut: \n",
        "* \"Ctrl + /\" (Place the cursor on the code line and press the Control + / key.)"
      ],
      "metadata": {
        "id": "xZv9R8I8ZWvt"
      }
    },
    {
      "cell_type": "markdown",
      "source": [
        "commenting - 인간이 이해하는 언어. 샵 표시를 해줌. 컴퓨터는 무시함. 앞에다 샵 해도 되고 옆에다 해도 됨. 라인에 커서를 둔 상태에서 crtl / 를 하면 commenting uncommenting이 왔다갔다함. block 하고 ctrl / 하면 전체가 commeting이 됨.\n",
        "제일 밑에 줄 #을 지워주면 (uncommenting) 결과값이 뜸."
      ],
      "metadata": {
        "id": "w6Lj6iU8di99"
      }
    },
    {
      "cell_type": "code",
      "source": [
        "# This is a comment in Python\n",
        "x = 10 # this is also a comment"
      ],
      "metadata": {
        "id": "7UJmbmmTaFx9"
      },
      "execution_count": 3,
      "outputs": []
    },
    {
      "cell_type": "code",
      "source": [
        "x1 = x * 10\n",
        "x2 = x + 5\n",
        "\n",
        "#print(x1) # Print the value of x1\n",
        "# print(x1, x2) # Print the values of x1 and x2"
      ],
      "metadata": {
        "id": "Ivc72tB0X_TS"
      },
      "execution_count": 4,
      "outputs": []
    },
    {
      "cell_type": "code",
      "source": [
        "print(y)\n",
        "y1 = y + \"Welcome to the class.\"\n",
        "z1 = z + [3,2,1]\n",
        " \n",
        "print(y1, z1)"
      ],
      "metadata": {
        "id": "cxePqv-52RU0",
        "outputId": "61b966c6-cbe1-48ba-e76d-2db7f0452533",
        "colab": {
          "base_uri": "https://localhost:8080/"
        }
      },
      "execution_count": 5,
      "outputs": [
        {
          "output_type": "stream",
          "name": "stdout",
          "text": [
            "Hello, class!\n",
            "Hello, class!Welcome to the class. [1, 2, 3, 3, 2, 1]\n"
          ]
        }
      ]
    },
    {
      "cell_type": "markdown",
      "source": [
        "Input types:\n",
        "\n",
        "* integer: e.g., -3, 1, 0, 234, etc.\n",
        "* float: e.g., -3.0, 1.2, 0, 3.141592653589793238, etc.\n",
        "* string: (characters) \"1\", '0', \"3.29\", \"Mary\", \"euphoria\", 'My name is Jane.'\n",
        "\n",
        "_Note:_ double or single quotation marks denote **string** data. (Open and close should match.)"
      ],
      "metadata": {
        "id": "4zDbyBHbeQsq"
      }
    },
    {
      "cell_type": "markdown",
      "source": [
        "* integer - 소수점 없는 숫자\n",
        "* float - 소수점이 포함되어 있음"
      ],
      "metadata": {
        "id": "wZz76cmUXRgE"
      }
    },
    {
      "cell_type": "code",
      "source": [
        "# DIY\n",
        "x = 1\n",
        "y = 3\n",
        "z = x + y\n",
        "print(z)\n",
        "\n",
        "x1 = \"1\"\n",
        "y1 = \"3\"\n",
        "z1 = x1 + y1\n",
        "print(z1)"
      ],
      "metadata": {
        "colab": {
          "base_uri": "https://localhost:8080/"
        },
        "id": "yzZuC29QfP3T",
        "outputId": "03c4d2b7-3303-4957-d4f9-5e554c5fcdaf"
      },
      "execution_count": 6,
      "outputs": [
        {
          "output_type": "stream",
          "name": "stdout",
          "text": [
            "4\n",
            "13\n"
          ]
        }
      ]
    },
    {
      "cell_type": "code",
      "source": [
        "type(z)"
      ],
      "metadata": {
        "colab": {
          "base_uri": "https://localhost:8080/"
        },
        "id": "qwDb8cf5fkKi",
        "outputId": "8d109628-bf13-425f-8a60-4ca62ba03cf1"
      },
      "execution_count": 7,
      "outputs": [
        {
          "output_type": "execute_result",
          "data": {
            "text/plain": [
              "int"
            ]
          },
          "metadata": {},
          "execution_count": 7
        }
      ]
    },
    {
      "cell_type": "markdown",
      "source": [
        "* type - 이 변수의 type이 뭔지 보여주는 것. \n",
        "* int - integer 연산 가능함 \n",
        "* str - string 문자 열을 붙였다 뗐다 할 수 있음"
      ],
      "metadata": {
        "id": "hAiWJ1udXrIj"
      }
    },
    {
      "cell_type": "code",
      "source": [
        "type(z1)"
      ],
      "metadata": {
        "colab": {
          "base_uri": "https://localhost:8080/"
        },
        "id": "L7sxvSaOfsOt",
        "outputId": "ef64e3ec-0016-4a01-dcb6-c7022aae106c"
      },
      "execution_count": 8,
      "outputs": [
        {
          "output_type": "execute_result",
          "data": {
            "text/plain": [
              "str"
            ]
          },
          "metadata": {},
          "execution_count": 8
        }
      ]
    },
    {
      "cell_type": "code",
      "source": [
        "print(type(z), type(z1))"
      ],
      "metadata": {
        "colab": {
          "base_uri": "https://localhost:8080/"
        },
        "id": "bbFaL_GWfwMH",
        "outputId": "74f736b9-071c-4342-882c-dd2797c35655"
      },
      "execution_count": 9,
      "outputs": [
        {
          "output_type": "stream",
          "name": "stdout",
          "text": [
            "<class 'int'> <class 'str'>\n"
          ]
        }
      ]
    },
    {
      "cell_type": "markdown",
      "source": [
        "## [2] Operators\n",
        "\n",
        "* Symbols that perform operations on values and variables. \n",
        "* They are used to perform arithmetic and logical operations, and they can also be used to manipulate and compare values. "
      ],
      "metadata": {
        "id": "5JgA2T2dRft5"
      }
    },
    {
      "cell_type": "markdown",
      "source": [
        "1. Arithmetic Operators: +, -, *, /, %, ** (for exponentiation)\n",
        "2. semicolon ';' - separate multiple statements (code lines) on a single line."
      ],
      "metadata": {
        "id": "NJBgu_O4bczL"
      }
    },
    {
      "cell_type": "code",
      "source": [
        "x = 2; y = 5\n",
        "\n",
        "a1 = x + y\n",
        "a2 = x - y\n",
        "a3 = x * y\n",
        "a4 = x / y\n",
        "a5 = x ** y"
      ],
      "metadata": {
        "id": "dXT3pIzobUHU"
      },
      "execution_count": 10,
      "outputs": []
    },
    {
      "cell_type": "code",
      "source": [
        "print(a1, a2, a3, a4, a5)"
      ],
      "metadata": {
        "colab": {
          "base_uri": "https://localhost:8080/"
        },
        "id": "_m3JBsOKd6Uv",
        "outputId": "aa8fc575-528e-47e6-fb1e-be02e37af7af"
      },
      "execution_count": 11,
      "outputs": [
        {
          "output_type": "stream",
          "name": "stdout",
          "text": [
            "7 -3 10 0.4 32\n"
          ]
        }
      ]
    },
    {
      "cell_type": "code",
      "source": [
        "print(\"The value of a1:\", a1)"
      ],
      "metadata": {
        "colab": {
          "base_uri": "https://localhost:8080/"
        },
        "id": "5kq7I3nMd0Xi",
        "outputId": "6d0288e8-ef76-451d-f09f-0eaa4758ed0a"
      },
      "execution_count": 12,
      "outputs": [
        {
          "output_type": "stream",
          "name": "stdout",
          "text": [
            "The value of a1: 7\n"
          ]
        }
      ]
    },
    {
      "cell_type": "markdown",
      "source": [
        "text 형식으로 보고싶을 때는 따옴표 안에 내용을 넣어줌. interactive하게 사용할 수 있도록."
      ],
      "metadata": {
        "id": "xOT3rdBrYG78"
      }
    },
    {
      "cell_type": "markdown",
      "source": [
        "# 🌱 Define a function\n",
        "\n",
        "Demo 🔢 Calculator"
      ],
      "metadata": {
        "id": "Cx1NyWUAybc8"
      }
    },
    {
      "cell_type": "markdown",
      "source": [
        "함수를 정의해서 사용할 수 있음. 자주 사용하는 계산식을 자기만의 함수로 만들기."
      ],
      "metadata": {
        "id": "W_Tpw7fAYWmk"
      }
    },
    {
      "cell_type": "code",
      "source": [
        "# This function adds two numbers\n",
        "def add(x, y):\n",
        "    return x + y\n",
        "\n",
        "# This function subtracts two numbers\n",
        "def subtract(x, y):\n",
        "    return x - y\n",
        "\n",
        "# This function multiplies two numbers\n",
        "def multiply(x, y):\n",
        "    return x * y\n",
        "\n",
        "# This function divides two numbers\n",
        "def divide(x, y):\n",
        "    return x / y\n"
      ],
      "metadata": {
        "id": "Dod3_zgYdsWe"
      },
      "execution_count": 13,
      "outputs": []
    },
    {
      "cell_type": "code",
      "source": [
        "# DIY: define a function names switch(x, y), where the input x, y changes its position in the output.\n",
        "def switch(x, y):\n",
        "  return print(y, x)"
      ],
      "metadata": {
        "id": "W9CuAaqXgwb5"
      },
      "execution_count": 15,
      "outputs": []
    },
    {
      "cell_type": "code",
      "source": [
        "switch(\"it\", \"is\")"
      ],
      "metadata": {
        "id": "tQTpnbrVaGuM",
        "outputId": "24d32a60-cde6-43dd-adf2-db4239b95fa2",
        "colab": {
          "base_uri": "https://localhost:8080/"
        }
      },
      "execution_count": 16,
      "outputs": [
        {
          "output_type": "stream",
          "name": "stdout",
          "text": [
            "is it\n"
          ]
        }
      ]
    },
    {
      "cell_type": "markdown",
      "source": [
        "x y z 놓고 x y 는 바꿔야 할 대상. z는 그대로 놔두기. 를 사용하면 더욱 복잡한 문장도 가능."
      ],
      "metadata": {
        "id": "Ff_EnbdeaR7T"
      }
    },
    {
      "cell_type": "markdown",
      "source": [
        "셀 안에서 커서를 두고 ctrl enter 하면 running 됨"
      ],
      "metadata": {
        "id": "nzWDa2avaAd8"
      }
    },
    {
      "cell_type": "code",
      "source": [
        "add(1200,34)"
      ],
      "metadata": {
        "id": "br8NXBwtMpMI",
        "outputId": "02bd3b3a-d542-4cb6-a555-f9c04a158b8a",
        "colab": {
          "base_uri": "https://localhost:8080/"
        }
      },
      "execution_count": 17,
      "outputs": [
        {
          "output_type": "execute_result",
          "data": {
            "text/plain": [
              "1234"
            ]
          },
          "metadata": {},
          "execution_count": 17
        }
      ]
    },
    {
      "cell_type": "code",
      "source": [
        "# Test\n",
        "\n",
        "add(2,3)\n",
        "subtract(3,2)\n",
        "multiply(2,3)\n",
        "divide(3,2)"
      ],
      "metadata": {
        "id": "IoHh-U2GBsqH",
        "outputId": "73922873-b5c3-4779-f5d3-5484fc8dd137",
        "colab": {
          "base_uri": "https://localhost:8080/"
        }
      },
      "execution_count": 18,
      "outputs": [
        {
          "output_type": "execute_result",
          "data": {
            "text/plain": [
              "1.5"
            ]
          },
          "metadata": {},
          "execution_count": 18
        }
      ]
    },
    {
      "cell_type": "markdown",
      "source": [
        "## Using dropbox format"
      ],
      "metadata": {
        "id": "eOluPoNqCCE1"
      }
    },
    {
      "cell_type": "code",
      "source": [
        "#@markdown 🔄 Making functions: tts('text')\n",
        "%%capture\n",
        "!pip install gTTS\n",
        "from gtts import gTTS\n",
        "from IPython.display import Audio\n",
        "\n",
        "def tts(text):\n",
        "  text_to_say = text\n",
        "\n",
        "  gtts_object = gTTS(text = text_to_say,\n",
        "                     lang = \"en\", tld = \"us\",\n",
        "                    slow = True)\n",
        "  \n",
        "  gtts_object.save(\"E-audio.mp3\")\n",
        "  return Audio(\"E-audio.mp3\")"
      ],
      "metadata": {
        "id": "nRtyN0p6NoKA"
      },
      "execution_count": 19,
      "outputs": []
    },
    {
      "cell_type": "code",
      "source": [
        "func = \"multiply\" #@param = [\"add\",\"subtract\",\"multiply\",\"divide\"]\n",
        "digits = input(\"Type two numbers: (e.g., 3,4)\")\n",
        "digitsplit = digits.split(',')\n",
        "d1 = int(digitsplit[0])\n",
        "d2 = int(digitsplit[1])\n",
        "\n",
        "if func == \"add\":\n",
        "  result = add(d1,d2)\n",
        "  text = \"The addition of %d and %d equals %d.\"%(d1,d2,result)\n",
        "elif func == \"subtract\":\n",
        "  result = subtract(d1,d2)\n",
        "  text = \"If you subtract %d from %d, you get %d.\"%(d2,d1,result)\n",
        "elif func == \"divide\":\n",
        "  result = divide(d1,d2)\n",
        "  text = \"When you divide %d by %d, you get %d.\"%(d1,d2,result)\n",
        "elif func == \"multiply\":\n",
        "  result = multiply(d1,d2)\n",
        "  text = \"%d multiplied by %d is %d.\"%(d1,d2,result)\n",
        "\n",
        "print(text)\n",
        "tts(text)\n",
        "Audio(\"E-audio.mp3\", autoplay = True)"
      ],
      "metadata": {
        "id": "FT47bY6qBo3k",
        "outputId": "d3615167-2217-47e2-d790-b88bd7566caa",
        "colab": {
          "base_uri": "https://localhost:8080/",
          "height": 111
        }
      },
      "execution_count": 23,
      "outputs": [
        {
          "output_type": "stream",
          "name": "stdout",
          "text": [
            "Type two numbers: (e.g., 3,4)5, 6\n",
            "5 multiplied by 6 is 30.\n"
          ]
        },
        {
          "output_type": "execute_result",
          "data": {
            "text/plain": [
              "<IPython.lib.display.Audio object>"
            ],
            "text/html": [
              "\n",
              "                <audio  controls=\"controls\" autoplay=\"autoplay\">\n",
              "                    <source src=\"data:audio/mpeg;base64,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\" type=\"audio/mpeg\" />\n",
              "                    Your browser does not support the audio element.\n",
              "                </audio>\n",
              "              "
            ]
          },
          "metadata": {},
          "execution_count": 23
        }
      ]
    },
    {
      "cell_type": "markdown",
      "source": [
        "audio file을 바로 재생하고 싶을 때는 괄호 안에 autoplay = True 적어주기. (대소문자 구분)\n",
        "숫자 계산의 영어 표현을 알려주고 싶을 때 이렇게 사용할 수 있다."
      ],
      "metadata": {
        "id": "B7IwpTSjbaH8"
      }
    },
    {
      "cell_type": "markdown",
      "source": [
        "More operators: <br>\n",
        "* Comparison Operators: ==, !=, <, >, <=, >= <br>\n",
        "* Assignment Operators: =, +=, -=, *=, /=, %= <br>\n",
        "* Logical Operators: and, or, not <br>\n",
        "* Identity Operators: is, is not <br>\n",
        "* Membership Operators: in, not in "
      ],
      "metadata": {
        "id": "sfubu24UbqjH"
      }
    },
    {
      "cell_type": "markdown",
      "source": [
        "# 📗Topic [3] Data types: number, string, list and dictionary\n"
      ],
      "metadata": {
        "id": "3eSrUoglRh6-"
      }
    },
    {
      "cell_type": "markdown",
      "source": [
        "\n",
        "|Data type| |\n",
        "|:--:|:--:|\n",
        "|number|int, float|\n",
        "|string|charcter|\n",
        "|list|[1, 2,4], ['Mary','Tom','Jane'|\n",
        "|dictionary|(key: value), [('English': 80), ('Korean':90)]|\n",
        "|tuple|('zero', 0)|\n"
      ],
      "metadata": {
        "id": "ZVFb5JmJrPXu"
      }
    },
    {
      "cell_type": "markdown",
      "source": [
        "자주 사용하는 것들임.\n",
        "* number 숫자\n",
        "* int 정수\n",
        "* float 소수점 있는 숫자\n",
        "* string 문자\n",
        "* list 하나 이상의 data를 순서대로 나열할 때"
      ],
      "metadata": {
        "id": "bYEGRWsTb278"
      }
    },
    {
      "cell_type": "code",
      "source": [
        "a1 = 3   # a1 is integer\n",
        "a2 = 3.0 # a2 is float\n",
        "a3 = \"3\" # a3 is string\n",
        "\n",
        "type(a1); type(a2); type(a3)\n",
        "print(type(a1), type(a2), type(a3))"
      ],
      "metadata": {
        "colab": {
          "base_uri": "https://localhost:8080/"
        },
        "id": "g-kvldqENA1e",
        "outputId": "4b159da9-9005-40ea-8801-bae31b914b55"
      },
      "execution_count": 27,
      "outputs": [
        {
          "output_type": "stream",
          "name": "stdout",
          "text": [
            "<class 'int'> <class 'float'> <class 'str'>\n"
          ]
        }
      ]
    },
    {
      "cell_type": "markdown",
      "source": [
        "\"\" 안에 들어가면 string으로 인식함.\n",
        "세미컬론은 line by line 이 아닌 옆으로 연결하고 싶을 때.\n",
        "type을 확인하고 싶을 때는 이런 함수를 쓴다."
      ],
      "metadata": {
        "id": "HNrcZGRIcJvD"
      }
    },
    {
      "cell_type": "markdown",
      "source": [
        "list and index (0, 1, 2,...)"
      ],
      "metadata": {
        "id": "HC_wMsPnNbzs"
      }
    },
    {
      "cell_type": "code",
      "source": [
        "a = [1, \"Mary\", 4, \"John\"]  # This is a list.\n",
        "print(type(a))\n",
        "\n",
        "a+a"
      ],
      "metadata": {
        "colab": {
          "base_uri": "https://localhost:8080/"
        },
        "id": "LyTw7phONZHE",
        "outputId": "e8307d8f-5b9f-4b93-b363-fdde613ab2ce"
      },
      "execution_count": 28,
      "outputs": [
        {
          "output_type": "stream",
          "name": "stdout",
          "text": [
            "<class 'list'>\n"
          ]
        },
        {
          "output_type": "execute_result",
          "data": {
            "text/plain": [
              "[1, 'Mary', 4, 'John', 1, 'Mary', 4, 'John']"
            ]
          },
          "metadata": {},
          "execution_count": 28
        }
      ]
    },
    {
      "cell_type": "markdown",
      "source": [
        "첫번째 두번째.. 이런걸 index라고 함.\n",
        "python은 indexing을 0부터 한다.\n",
        "1이 0번째, Mary는 1번째, 4는 2번째 ...\n",
        "list에 list를 더하면 (a+a) 결과를 반복해줌."
      ],
      "metadata": {
        "id": "nns7fEHwcmTV"
      }
    },
    {
      "cell_type": "markdown",
      "source": [
        "* index: Python index starts from '0'\n",
        "\n",
        "e.g., a = [1, 2, 3, 4]"
      ],
      "metadata": {
        "id": "-fL-pJvj7NW8"
      }
    },
    {
      "cell_type": "code",
      "source": [
        "a[0]\n",
        "type(a[0])\n",
        "type(a[1])\n",
        "a[0] + a[2]\n",
        "a[0] + a[1] # int + str = error"
      ],
      "metadata": {
        "id": "9Z5zLDGc7X13",
        "outputId": "d72d117c-3f44-42c3-8865-82d6074d42fa",
        "colab": {
          "base_uri": "https://localhost:8080/",
          "height": 211
        }
      },
      "execution_count": 34,
      "outputs": [
        {
          "output_type": "error",
          "ename": "TypeError",
          "evalue": "ignored",
          "traceback": [
            "\u001b[0;31m---------------------------------------------------------------------------\u001b[0m",
            "\u001b[0;31mTypeError\u001b[0m                                 Traceback (most recent call last)",
            "\u001b[0;32m<ipython-input-34-6b699a7a71e2>\u001b[0m in \u001b[0;36m<module>\u001b[0;34m\u001b[0m\n\u001b[1;32m      3\u001b[0m \u001b[0mtype\u001b[0m\u001b[0;34m(\u001b[0m\u001b[0ma\u001b[0m\u001b[0;34m[\u001b[0m\u001b[0;36m1\u001b[0m\u001b[0;34m]\u001b[0m\u001b[0;34m)\u001b[0m\u001b[0;34m\u001b[0m\u001b[0;34m\u001b[0m\u001b[0m\n\u001b[1;32m      4\u001b[0m \u001b[0ma\u001b[0m\u001b[0;34m[\u001b[0m\u001b[0;36m0\u001b[0m\u001b[0;34m]\u001b[0m \u001b[0;34m+\u001b[0m \u001b[0ma\u001b[0m\u001b[0;34m[\u001b[0m\u001b[0;36m2\u001b[0m\u001b[0;34m]\u001b[0m\u001b[0;34m\u001b[0m\u001b[0;34m\u001b[0m\u001b[0m\n\u001b[0;32m----> 5\u001b[0;31m \u001b[0ma\u001b[0m\u001b[0;34m[\u001b[0m\u001b[0;36m0\u001b[0m\u001b[0;34m]\u001b[0m \u001b[0;34m+\u001b[0m \u001b[0ma\u001b[0m\u001b[0;34m[\u001b[0m\u001b[0;36m1\u001b[0m\u001b[0;34m]\u001b[0m \u001b[0;31m# int + str = error\u001b[0m\u001b[0;34m\u001b[0m\u001b[0;34m\u001b[0m\u001b[0m\n\u001b[0m",
            "\u001b[0;31mTypeError\u001b[0m: unsupported operand type(s) for +: 'int' and 'str'"
          ]
        }
      ]
    },
    {
      "cell_type": "markdown",
      "source": [
        "[0]은 int / [1]은 str 이기 때문에 error 나옴. [0]에 따옴표 붙여주면 str로 인식해서 옆으로 나열해줌."
      ],
      "metadata": {
        "id": "K5No16I5dPJM"
      }
    },
    {
      "cell_type": "markdown",
      "source": [],
      "metadata": {
        "id": "vXfL_E2uc8Dl"
      }
    },
    {
      "cell_type": "markdown",
      "source": [
        "[Github accounts](https://raw.githubusercontent.com/MK316/Spring2023/main/DL/files/DL_github.csv)"
      ],
      "metadata": {
        "id": "S-KG49Zaim0S"
      }
    },
    {
      "cell_type": "markdown",
      "source": [
        "\n",
        "\n",
        "---\n",
        "# The End\n"
      ],
      "metadata": {
        "id": "3cZjH9xIiN4_"
      }
    }
  ]
}