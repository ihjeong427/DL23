{
  "nbformat": 4,
  "nbformat_minor": 0,
  "metadata": {
    "colab": {
      "provenance": [],
      "authorship_tag": "ABX9TyNjKA+ERgYLZB4ZwcEGUDag",
      "include_colab_link": true
    },
    "kernelspec": {
      "name": "python3",
      "display_name": "Python 3"
    },
    "language_info": {
      "name": "python"
    }
  },
  "cells": [
    {
      "cell_type": "markdown",
      "metadata": {
        "id": "view-in-github",
        "colab_type": "text"
      },
      "source": [
        "<a href=\"https://colab.research.google.com/github/ihjeong427/DL23/blob/main/Midterm_practice.ipynb\" target=\"_parent\"><img src=\"https://colab.research.google.com/assets/colab-badge.svg\" alt=\"Open In Colab\"/></a>"
      ]
    },
    {
      "cell_type": "markdown",
      "source": [
        "# DL midterm practice"
      ],
      "metadata": {
        "id": "uBJo_ZhOH6YP"
      }
    },
    {
      "cell_type": "markdown",
      "source": [
        "\n",
        "\n",
        "## 1.   gTTS"
      ],
      "metadata": {
        "id": "VgRIqgJMUP9m"
      }
    },
    {
      "cell_type": "code",
      "source": [
        "!pip install gTTS\n",
        "from gtts import gTTS\n",
        "from IPython.display import Audio\n",
        "\n",
        "def tts(text):\n",
        "  gtts_object = gTTS(text, lang=\"en\", slow = True)\n",
        "  gtts_object.save(\"myaudio.mp3\")\n",
        "  return Audio(\"myaudio.mp3\")"
      ],
      "metadata": {
        "colab": {
          "base_uri": "https://localhost:8080/"
        },
        "id": "AvHQpAduIAR_",
        "outputId": "5f3c1355-22b6-463d-ac3c-0c8e3cca83c9"
      },
      "execution_count": 6,
      "outputs": [
        {
          "output_type": "stream",
          "name": "stdout",
          "text": [
            "Looking in indexes: https://pypi.org/simple, https://us-python.pkg.dev/colab-wheels/public/simple/\n",
            "Requirement already satisfied: gTTS in /usr/local/lib/python3.9/dist-packages (2.3.1)\n",
            "Requirement already satisfied: click<8.2,>=7.1 in /usr/local/lib/python3.9/dist-packages (from gTTS) (8.1.3)\n",
            "Requirement already satisfied: requests<3,>=2.27 in /usr/local/lib/python3.9/dist-packages (from gTTS) (2.27.1)\n",
            "Requirement already satisfied: charset-normalizer~=2.0.0 in /usr/local/lib/python3.9/dist-packages (from requests<3,>=2.27->gTTS) (2.0.12)\n",
            "Requirement already satisfied: certifi>=2017.4.17 in /usr/local/lib/python3.9/dist-packages (from requests<3,>=2.27->gTTS) (2022.12.7)\n",
            "Requirement already satisfied: urllib3<1.27,>=1.21.1 in /usr/local/lib/python3.9/dist-packages (from requests<3,>=2.27->gTTS) (1.26.15)\n",
            "Requirement already satisfied: idna<4,>=2.5 in /usr/local/lib/python3.9/dist-packages (from requests<3,>=2.27->gTTS) (3.4)\n"
          ]
        }
      ]
    },
    {
      "cell_type": "code",
      "source": [
        "tts('Hello World')"
      ],
      "metadata": {
        "colab": {
          "base_uri": "https://localhost:8080/",
          "height": 74
        },
        "id": "Q8R907DFRcex",
        "outputId": "f353f9c3-875d-498c-f3e5-9e54d26e794d"
      },
      "execution_count": 7,
      "outputs": [
        {
          "output_type": "execute_result",
          "data": {
            "text/plain": [
              "<IPython.lib.display.Audio object>"
            ],
            "text/html": [
              "\n",
              "                <audio  controls=\"controls\" >\n",
              "                    <source src=\"data:audio/mpeg;base64,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\" type=\"audio/mpeg\" />\n",
              "                    Your browser does not support the audio element.\n",
              "                </audio>\n",
              "              "
            ]
          },
          "metadata": {},
          "execution_count": 7
        }
      ]
    },
    {
      "cell_type": "code",
      "source": [
        "mytext=input(\"Type text to generate audio: \")\n",
        "tts(mytext)"
      ],
      "metadata": {
        "colab": {
          "base_uri": "https://localhost:8080/",
          "height": 93
        },
        "id": "0lq6rkKARvNC",
        "outputId": "bdf14e22-18f2-4f33-cad1-33fd4f459df3"
      },
      "execution_count": 9,
      "outputs": [
        {
          "name": "stdout",
          "output_type": "stream",
          "text": [
            "Type text to generate audio: hello\n"
          ]
        },
        {
          "output_type": "execute_result",
          "data": {
            "text/plain": [
              "<IPython.lib.display.Audio object>"
            ],
            "text/html": [
              "\n",
              "                <audio  controls=\"controls\" >\n",
              "                    <source src=\"data:audio/mpeg;base64,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\" type=\"audio/mpeg\" />\n",
              "                    Your browser does not support the audio element.\n",
              "                </audio>\n",
              "              "
            ]
          },
          "metadata": {},
          "execution_count": 9
        }
      ]
    },
    {
      "cell_type": "markdown",
      "source": [
        "## 2. Variables"
      ],
      "metadata": {
        "id": "M8rbqdB9UYUh"
      }
    },
    {
      "cell_type": "code",
      "source": [
        "x = 10 #intiger(int)\n",
        "y = \"Hello, everyone!\" #string(str)\n",
        "z = [1,2,3] #list\n",
        "type(z)"
      ],
      "metadata": {
        "colab": {
          "base_uri": "https://localhost:8080/"
        },
        "id": "KNpBIo8DUZxK",
        "outputId": "499c4353-fd59-4aff-8449-9be1300a6d8a"
      },
      "execution_count": 17,
      "outputs": [
        {
          "output_type": "execute_result",
          "data": {
            "text/plain": [
              "list"
            ]
          },
          "metadata": {},
          "execution_count": 17
        }
      ]
    },
    {
      "cell_type": "code",
      "source": [
        "x1 = x * 30\n",
        "x2 = x + 150\n",
        "print(x1,x2)"
      ],
      "metadata": {
        "colab": {
          "base_uri": "https://localhost:8080/"
        },
        "id": "gcKQzicRVGYf",
        "outputId": "96b23c51-4fc1-4896-89df-99537ebbdd1c"
      },
      "execution_count": 18,
      "outputs": [
        {
          "output_type": "stream",
          "name": "stdout",
          "text": [
            "300 160\n"
          ]
        }
      ]
    },
    {
      "cell_type": "code",
      "source": [
        "y1 = y + \" Nice to meet you.\"\n",
        "z1 = z + [4,5,6]\n",
        "print(y1,z1)"
      ],
      "metadata": {
        "colab": {
          "base_uri": "https://localhost:8080/"
        },
        "id": "ihSOBEV3VMh9",
        "outputId": "6f18850f-b4eb-4043-f9ca-f8bc79ce812a"
      },
      "execution_count": 21,
      "outputs": [
        {
          "output_type": "stream",
          "name": "stdout",
          "text": [
            "Hello, everyone! Nice to meet you. [1, 2, 3, 4, 5, 6]\n"
          ]
        }
      ]
    },
    {
      "cell_type": "markdown",
      "source": [
        "## 3. Operators"
      ],
      "metadata": {
        "id": "D7utYeVEWYym"
      }
    },
    {
      "cell_type": "code",
      "source": [
        "x = 3; y= 7\n",
        "x1 = x + y\n",
        "x2 = x - y\n",
        "x3 = x * y\n",
        "x4 = x / y\n",
        "x5 = x ** y"
      ],
      "metadata": {
        "id": "-l1zt6LKWc91"
      },
      "execution_count": 22,
      "outputs": []
    },
    {
      "cell_type": "code",
      "source": [
        "print(x1,x2,x3,x4,x5)"
      ],
      "metadata": {
        "colab": {
          "base_uri": "https://localhost:8080/"
        },
        "id": "tfDxg7TBWxcr",
        "outputId": "7f1a8755-8b05-47c6-85db-f7c85733b20f"
      },
      "execution_count": 23,
      "outputs": [
        {
          "output_type": "stream",
          "name": "stdout",
          "text": [
            "10 -4 21 0.42857142857142855 2187\n"
          ]
        }
      ]
    },
    {
      "cell_type": "code",
      "source": [
        "print(\"The value of x1: \",x1)"
      ],
      "metadata": {
        "colab": {
          "base_uri": "https://localhost:8080/"
        },
        "id": "3MVrXSksar2U",
        "outputId": "d114774d-cad4-4cb4-b5a4-9127e65cb9dc"
      },
      "execution_count": 40,
      "outputs": [
        {
          "output_type": "stream",
          "name": "stdout",
          "text": [
            "The value of x1:  1\n"
          ]
        }
      ]
    },
    {
      "cell_type": "code",
      "source": [
        "def add(x, y):\n",
        "  return x+y\n",
        "def subtract(x, y):\n",
        "  return x - y\n",
        "def multiply(x, y):\n",
        "  return x * y\n",
        "def devide(x, y):\n",
        "  return x / y"
      ],
      "metadata": {
        "id": "788iPEeYXBUU"
      },
      "execution_count": 26,
      "outputs": []
    },
    {
      "cell_type": "code",
      "source": [
        "add(3,5)\n",
        "subtract(30,3)\n",
        "multiply(3820,2932)\n",
        "devide(39,3)"
      ],
      "metadata": {
        "colab": {
          "base_uri": "https://localhost:8080/"
        },
        "id": "-fWD_0J0Xi38",
        "outputId": "dfb2795e-e10c-477a-e61f-5436c49c134b"
      },
      "execution_count": 30,
      "outputs": [
        {
          "output_type": "execute_result",
          "data": {
            "text/plain": [
              "13.0"
            ]
          },
          "metadata": {},
          "execution_count": 30
        }
      ]
    },
    {
      "cell_type": "markdown",
      "source": [
        "Input types:\n",
        "\n",
        "- integer: e.g., -3, 1, 0, 234, etc.\n",
        "- float: e.g., -3.0, 1.2, 0, 3.141592653589793238, etc.\n",
        "- string: (characters) \"1\", '0', \"3.29\", \"Mary\", \"euphoria\", 'My name is Jane.'\n",
        "\n",
        "Note: double or single quotation marks denote string data. (Open and close should match.)"
      ],
      "metadata": {
        "id": "s0KxrUyCZr70"
      }
    },
    {
      "cell_type": "code",
      "source": [
        "x = 1\n",
        "y = 2\n",
        "z = x+y\n",
        "print(z)"
      ],
      "metadata": {
        "colab": {
          "base_uri": "https://localhost:8080/"
        },
        "id": "uapKVve5aDqY",
        "outputId": "57d83249-c635-40a5-9581-024cdd6dce34"
      },
      "execution_count": 33,
      "outputs": [
        {
          "output_type": "stream",
          "name": "stdout",
          "text": [
            "3\n"
          ]
        }
      ]
    },
    {
      "cell_type": "code",
      "source": [
        "x1 = \"1\"\n",
        "y1 = \"2\"\n",
        "z1 = x1+y1\n",
        "print(z1)"
      ],
      "metadata": {
        "colab": {
          "base_uri": "https://localhost:8080/"
        },
        "id": "8t6NSkiNaHoA",
        "outputId": "93f465f4-22fd-4296-ee2a-6f4402e7a169"
      },
      "execution_count": 36,
      "outputs": [
        {
          "output_type": "stream",
          "name": "stdout",
          "text": [
            "12\n"
          ]
        }
      ]
    },
    {
      "cell_type": "code",
      "source": [
        "type(z)"
      ],
      "metadata": {
        "colab": {
          "base_uri": "https://localhost:8080/"
        },
        "id": "rwjeC7tAaZH7",
        "outputId": "00df5d62-d714-460a-de03-d50b2809473d"
      },
      "execution_count": 37,
      "outputs": [
        {
          "output_type": "execute_result",
          "data": {
            "text/plain": [
              "int"
            ]
          },
          "metadata": {},
          "execution_count": 37
        }
      ]
    },
    {
      "cell_type": "code",
      "source": [
        "type(z1)"
      ],
      "metadata": {
        "colab": {
          "base_uri": "https://localhost:8080/"
        },
        "id": "TYjfT18faa0y",
        "outputId": "c9b52658-fa1a-4848-f508-bbe3037ab454"
      },
      "execution_count": 38,
      "outputs": [
        {
          "output_type": "execute_result",
          "data": {
            "text/plain": [
              "str"
            ]
          },
          "metadata": {},
          "execution_count": 38
        }
      ]
    },
    {
      "cell_type": "code",
      "source": [
        "print(type(z),type(z1))"
      ],
      "metadata": {
        "colab": {
          "base_uri": "https://localhost:8080/"
        },
        "id": "LdkCgxfIaddC",
        "outputId": "b7dfccec-884f-4303-ce43-7a78ff28d63e"
      },
      "execution_count": 39,
      "outputs": [
        {
          "output_type": "stream",
          "name": "stdout",
          "text": [
            "<class 'int'> <class 'str'>\n"
          ]
        }
      ]
    },
    {
      "cell_type": "code",
      "source": [
        "a = [1, \"Mary\", 4, \"John\"] \n",
        "print(type(a))\n",
        "a+a"
      ],
      "metadata": {
        "colab": {
          "base_uri": "https://localhost:8080/"
        },
        "id": "huOqJNZ2ci54",
        "outputId": "aa85ad0b-725f-4a7f-d1e9-0d3c03ab09cc"
      },
      "execution_count": 42,
      "outputs": [
        {
          "output_type": "stream",
          "name": "stdout",
          "text": [
            "<class 'list'>\n"
          ]
        },
        {
          "output_type": "execute_result",
          "data": {
            "text/plain": [
              "[1, 'Mary', 4, 'John', 1, 'Mary', 4, 'John']"
            ]
          },
          "metadata": {},
          "execution_count": 42
        }
      ]
    },
    {
      "cell_type": "markdown",
      "source": [
        "- APIs stands for Application Programming Interfaces"
      ],
      "metadata": {
        "id": "CnVM3WdodeY6"
      }
    },
    {
      "cell_type": "markdown",
      "source": [
        "- A Module is a sinlge tool.\n",
        "- A package is a toolbox containing multiple tools.\n",
        "- A library is a set of toolboxes designed for a specific purpose."
      ],
      "metadata": {
        "id": "FTF1541EfPQs"
      }
    },
    {
      "cell_type": "markdown",
      "source": [
        "## 4. 'random' module"
      ],
      "metadata": {
        "id": "hHCIiqgzfkuE"
      }
    },
    {
      "cell_type": "code",
      "source": [
        "import random"
      ],
      "metadata": {
        "id": "jdE8yNIhfmyw"
      },
      "execution_count": 43,
      "outputs": []
    },
    {
      "cell_type": "code",
      "source": [
        "random.randint(1,10)"
      ],
      "metadata": {
        "colab": {
          "base_uri": "https://localhost:8080/"
        },
        "id": "tl-g96_hfq7e",
        "outputId": "76d88a35-88b9-42e0-d4ec-ace05ba32715"
      },
      "execution_count": 45,
      "outputs": [
        {
          "output_type": "execute_result",
          "data": {
            "text/plain": [
              "2"
            ]
          },
          "metadata": {},
          "execution_count": 45
        }
      ]
    },
    {
      "cell_type": "code",
      "source": [
        "a1=random.randint(1,10)\n",
        "a1*10"
      ],
      "metadata": {
        "colab": {
          "base_uri": "https://localhost:8080/"
        },
        "id": "iDjJyRgDfzE3",
        "outputId": "b15beb86-775e-414c-8e24-712d7595294c"
      },
      "execution_count": 47,
      "outputs": [
        {
          "output_type": "execute_result",
          "data": {
            "text/plain": [
              "20"
            ]
          },
          "metadata": {},
          "execution_count": 47
        }
      ]
    },
    {
      "cell_type": "markdown",
      "source": [
        "## 5. Basic data types"
      ],
      "metadata": {
        "id": "yj7skPNXgNh_"
      }
    },
    {
      "cell_type": "markdown",
      "source": [
        "A. strings"
      ],
      "metadata": {
        "id": "ofot-kNlgRJD"
      }
    },
    {
      "cell_type": "code",
      "source": [
        "a2 = \"Welcome\"\n",
        "a3 = \"2023\""
      ],
      "metadata": {
        "id": "FfosEqhrgT2A"
      },
      "execution_count": 48,
      "outputs": []
    },
    {
      "cell_type": "code",
      "source": [
        "print(a2+\", \"+a3+\"!\")"
      ],
      "metadata": {
        "colab": {
          "base_uri": "https://localhost:8080/"
        },
        "id": "VN96wKPEgX1f",
        "outputId": "fd5b2d72-3586-4a0f-ce9c-0ca56fe2f072"
      },
      "execution_count": 50,
      "outputs": [
        {
          "output_type": "stream",
          "name": "stdout",
          "text": [
            "Welcome, 2023!\n"
          ]
        }
      ]
    },
    {
      "cell_type": "code",
      "source": [
        "a4 = \"화이팅\"\n",
        "print(a4*10)"
      ],
      "metadata": {
        "colab": {
          "base_uri": "https://localhost:8080/"
        },
        "id": "xRyPU9dzgh7-",
        "outputId": "924f56b1-4417-4b10-c2fb-9252fea88a88"
      },
      "execution_count": 51,
      "outputs": [
        {
          "output_type": "stream",
          "name": "stdout",
          "text": [
            "화이팅화이팅화이팅화이팅화이팅화이팅화이팅화이팅화이팅화이팅\n"
          ]
        }
      ]
    },
    {
      "cell_type": "markdown",
      "source": [
        "B. Intigers, float"
      ],
      "metadata": {
        "id": "d8U69mlQgsBC"
      }
    },
    {
      "cell_type": "code",
      "source": [
        "x1 = 45; y1 = 0.5\n",
        "x1 * y1"
      ],
      "metadata": {
        "colab": {
          "base_uri": "https://localhost:8080/"
        },
        "id": "6vkOiNtUgwHf",
        "outputId": "2c89ac47-e9eb-4843-8d89-097e63212727"
      },
      "execution_count": 52,
      "outputs": [
        {
          "output_type": "execute_result",
          "data": {
            "text/plain": [
              "22.5"
            ]
          },
          "metadata": {},
          "execution_count": 52
        }
      ]
    },
    {
      "cell_type": "code",
      "source": [
        "type(y1)"
      ],
      "metadata": {
        "colab": {
          "base_uri": "https://localhost:8080/"
        },
        "id": "khwjqiYeg2J2",
        "outputId": "e6e70c32-60e5-47e1-f7f1-c58bfc12545e"
      },
      "execution_count": 53,
      "outputs": [
        {
          "output_type": "execute_result",
          "data": {
            "text/plain": [
              "float"
            ]
          },
          "metadata": {},
          "execution_count": 53
        }
      ]
    },
    {
      "cell_type": "markdown",
      "source": [
        "C. List datatype"
      ],
      "metadata": {
        "id": "iLxkdFHTg5BP"
      }
    },
    {
      "cell_type": "code",
      "source": [
        "x2 = [3,5,3]\n",
        "x2"
      ],
      "metadata": {
        "colab": {
          "base_uri": "https://localhost:8080/"
        },
        "id": "HBsFLTa2g8wJ",
        "outputId": "354fb2dd-5971-4408-b9bd-06284e4bb4e8"
      },
      "execution_count": 54,
      "outputs": [
        {
          "output_type": "execute_result",
          "data": {
            "text/plain": [
              "[3, 5, 3]"
            ]
          },
          "metadata": {},
          "execution_count": 54
        }
      ]
    },
    {
      "cell_type": "code",
      "source": [
        "type(x2)"
      ],
      "metadata": {
        "colab": {
          "base_uri": "https://localhost:8080/"
        },
        "id": "caULsPkdhCOW",
        "outputId": "0b2a5cbf-c4e3-4586-b4dc-73e52dd7573a"
      },
      "execution_count": 55,
      "outputs": [
        {
          "output_type": "execute_result",
          "data": {
            "text/plain": [
              "list"
            ]
          },
          "metadata": {},
          "execution_count": 55
        }
      ]
    },
    {
      "cell_type": "code",
      "source": [
        "x3 = range(5,15)\n",
        "list(x3)"
      ],
      "metadata": {
        "colab": {
          "base_uri": "https://localhost:8080/"
        },
        "id": "uwmoSNVNhKGE",
        "outputId": "776c6472-bdb5-4779-ee16-95ab15d8d9e6"
      },
      "execution_count": 56,
      "outputs": [
        {
          "output_type": "execute_result",
          "data": {
            "text/plain": [
              "[5, 6, 7, 8, 9, 10, 11, 12, 13, 14]"
            ]
          },
          "metadata": {},
          "execution_count": 56
        }
      ]
    },
    {
      "cell_type": "code",
      "source": [
        "x4 = \"computer\"\n",
        "list(x4)"
      ],
      "metadata": {
        "colab": {
          "base_uri": "https://localhost:8080/"
        },
        "id": "cvS6ZjZ4hQdw",
        "outputId": "2d5986f7-9a1c-4f95-c27a-9eb91d949730"
      },
      "execution_count": 58,
      "outputs": [
        {
          "output_type": "execute_result",
          "data": {
            "text/plain": [
              "['c', 'o', 'm', 'p', 'u', 't', 'e', 'r']"
            ]
          },
          "metadata": {},
          "execution_count": 58
        }
      ]
    },
    {
      "cell_type": "markdown",
      "source": [
        "D. Dictionary datatype: {'key':'value'}"
      ],
      "metadata": {
        "id": "dtzsXwWJhYPP"
      }
    },
    {
      "cell_type": "code",
      "source": [
        "mydict={\"GPT\":\"Generative Pretrained Transformer\",\"API\":\"Application Programming Interfaces\"}\n",
        "mydict['API']"
      ],
      "metadata": {
        "colab": {
          "base_uri": "https://localhost:8080/",
          "height": 35
        },
        "id": "QorKOxbLhjxN",
        "outputId": "5fa2c73e-01f1-491d-fb7c-88e692be0768"
      },
      "execution_count": 60,
      "outputs": [
        {
          "output_type": "execute_result",
          "data": {
            "text/plain": [
              "'Application Programming Interfaces'"
            ],
            "application/vnd.google.colaboratory.intrinsic+json": {
              "type": "string"
            }
          },
          "metadata": {},
          "execution_count": 60
        }
      ]
    },
    {
      "cell_type": "markdown",
      "source": [
        "Dictionary에서는 () 아닌 [] 사용"
      ],
      "metadata": {
        "id": "q6EOCudch4Mc"
      }
    },
    {
      "cell_type": "code",
      "source": [
        "class_size={\"Class A\":25, \"Class B\":20}\n",
        "class_size['Class B']"
      ],
      "metadata": {
        "colab": {
          "base_uri": "https://localhost:8080/"
        },
        "id": "AT3tv95Kh783",
        "outputId": "38ded237-d2ab-4ab0-a8ef-30ecf19e5df5"
      },
      "execution_count": 62,
      "outputs": [
        {
          "output_type": "execute_result",
          "data": {
            "text/plain": [
              "20"
            ]
          },
          "metadata": {},
          "execution_count": 62
        }
      ]
    },
    {
      "cell_type": "markdown",
      "source": [
        "E. Input/Output functions"
      ],
      "metadata": {
        "id": "dGrT336miXCQ"
      }
    },
    {
      "cell_type": "code",
      "source": [
        "yournumber = input()\n",
        "yournumber"
      ],
      "metadata": {
        "colab": {
          "base_uri": "https://localhost:8080/",
          "height": 54
        },
        "id": "o8Y9X57SialB",
        "outputId": "ad718bcc-ff6a-4673-e328-e497c326a1b4"
      },
      "execution_count": 63,
      "outputs": [
        {
          "name": "stdout",
          "output_type": "stream",
          "text": [
            "3\n"
          ]
        },
        {
          "output_type": "execute_result",
          "data": {
            "text/plain": [
              "'3'"
            ],
            "application/vnd.google.colaboratory.intrinsic+json": {
              "type": "string"
            }
          },
          "metadata": {},
          "execution_count": 63
        }
      ]
    },
    {
      "cell_type": "code",
      "source": [
        "yournumber*5"
      ],
      "metadata": {
        "colab": {
          "base_uri": "https://localhost:8080/",
          "height": 35
        },
        "id": "8I9FAfpwigrs",
        "outputId": "fa169b60-b757-4c32-a401-edf26b04e169"
      },
      "execution_count": 64,
      "outputs": [
        {
          "output_type": "execute_result",
          "data": {
            "text/plain": [
              "'33333'"
            ],
            "application/vnd.google.colaboratory.intrinsic+json": {
              "type": "string"
            }
          },
          "metadata": {},
          "execution_count": 64
        }
      ]
    },
    {
      "cell_type": "code",
      "source": [
        "type(yournumber)"
      ],
      "metadata": {
        "colab": {
          "base_uri": "https://localhost:8080/"
        },
        "id": "LzG92lVzilg_",
        "outputId": "6a8dbfca-326a-4e39-e6ec-fc2dd59505d5"
      },
      "execution_count": 65,
      "outputs": [
        {
          "output_type": "execute_result",
          "data": {
            "text/plain": [
              "str"
            ]
          },
          "metadata": {},
          "execution_count": 65
        }
      ]
    },
    {
      "cell_type": "code",
      "source": [
        "yournumber=int(yournumber) #str이었던 yournumber variable을 int로 바꿔줌"
      ],
      "metadata": {
        "id": "UWaW-xFdilSj"
      },
      "execution_count": 66,
      "outputs": []
    },
    {
      "cell_type": "code",
      "source": [
        "type(yournumber)"
      ],
      "metadata": {
        "colab": {
          "base_uri": "https://localhost:8080/"
        },
        "id": "euCQgHZLivCe",
        "outputId": "86478a37-f262-49e4-822c-0e76645646c1"
      },
      "execution_count": 67,
      "outputs": [
        {
          "output_type": "execute_result",
          "data": {
            "text/plain": [
              "int"
            ]
          },
          "metadata": {},
          "execution_count": 67
        }
      ]
    },
    {
      "cell_type": "code",
      "source": [
        "yournumber*5"
      ],
      "metadata": {
        "colab": {
          "base_uri": "https://localhost:8080/"
        },
        "id": "MkmIAJs5ixga",
        "outputId": "104c0c6c-b6dc-46bb-b5d1-ee03430f6ac3"
      },
      "execution_count": 68,
      "outputs": [
        {
          "output_type": "execute_result",
          "data": {
            "text/plain": [
              "15"
            ]
          },
          "metadata": {},
          "execution_count": 68
        }
      ]
    },
    {
      "cell_type": "markdown",
      "source": [
        "getting output"
      ],
      "metadata": {
        "id": "IcmeGSQzi5qs"
      }
    },
    {
      "cell_type": "code",
      "source": [
        "print(\"대한민국\")\n",
        "a2 = \"화이팅!\"\n",
        "print(a2)\n",
        "print(a2*5)\n",
        "print(\"화이팅 10번 합시다: \",a2*10)\n",
        "a2"
      ],
      "metadata": {
        "colab": {
          "base_uri": "https://localhost:8080/",
          "height": 109
        },
        "id": "P_iSrOski64t",
        "outputId": "1d448575-ce5c-497e-830a-0bc282aaec06"
      },
      "execution_count": 73,
      "outputs": [
        {
          "output_type": "stream",
          "name": "stdout",
          "text": [
            "대한민국\n",
            "화이팅!\n",
            "화이팅!화이팅!화이팅!화이팅!화이팅!\n",
            "화이팅 10번 합시다:  화이팅!화이팅!화이팅!화이팅!화이팅!화이팅!화이팅!화이팅!화이팅!화이팅!\n"
          ]
        },
        {
          "output_type": "execute_result",
          "data": {
            "text/plain": [
              "'화이팅!'"
            ],
            "application/vnd.google.colaboratory.intrinsic+json": {
              "type": "string"
            }
          },
          "metadata": {},
          "execution_count": 73
        }
      ]
    },
    {
      "cell_type": "code",
      "source": [
        "print(a2)\n",
        "print(\"-\"*30)\n",
        "a1=random.randint(1,10)\n",
        "print(\"Random integer between 1 and 10: \",a1)"
      ],
      "metadata": {
        "colab": {
          "base_uri": "https://localhost:8080/"
        },
        "id": "A36_zvG-jRGh",
        "outputId": "31351337-6f5d-497c-add1-342224d5a24a"
      },
      "execution_count": 75,
      "outputs": [
        {
          "output_type": "stream",
          "name": "stdout",
          "text": [
            "화이팅!\n",
            "------------------------------\n",
            "Random integer between 1 and 10:  10\n"
          ]
        }
      ]
    },
    {
      "cell_type": "markdown",
      "source": [
        "## data.strip()\n",
        "- strip() removes whitespace characters such as spaces, tabs, and newlines from the beginning and end of the string."
      ],
      "metadata": {
        "id": "RDdad_-6kbUz"
      }
    },
    {
      "cell_type": "code",
      "source": [
        "w1 = \" Mary is friendly  \"\n",
        "w1"
      ],
      "metadata": {
        "colab": {
          "base_uri": "https://localhost:8080/",
          "height": 35
        },
        "id": "kZsxZnTpkrw6",
        "outputId": "eb756ef3-5ec7-44af-91df-8246b6904590"
      },
      "execution_count": 81,
      "outputs": [
        {
          "output_type": "execute_result",
          "data": {
            "text/plain": [
              "' Mary is friendly  '"
            ],
            "application/vnd.google.colaboratory.intrinsic+json": {
              "type": "string"
            }
          },
          "metadata": {},
          "execution_count": 81
        }
      ]
    },
    {
      "cell_type": "code",
      "source": [
        "w1.strip()"
      ],
      "metadata": {
        "colab": {
          "base_uri": "https://localhost:8080/",
          "height": 35
        },
        "id": "CTDpWD3RkwqH",
        "outputId": "4946cd99-46ac-4da5-ea93-af1824de4bfd"
      },
      "execution_count": 82,
      "outputs": [
        {
          "output_type": "execute_result",
          "data": {
            "text/plain": [
              "'Mary is friendly'"
            ],
            "application/vnd.google.colaboratory.intrinsic+json": {
              "type": "string"
            }
          },
          "metadata": {},
          "execution_count": 82
        }
      ]
    },
    {
      "cell_type": "markdown",
      "source": [
        "## data.split()"
      ],
      "metadata": {
        "id": "zgCz_M7Kk3gi"
      }
    },
    {
      "cell_type": "code",
      "source": [
        "w1 = \"Mary is friendly.\"\n",
        "w1.split()"
      ],
      "metadata": {
        "colab": {
          "base_uri": "https://localhost:8080/"
        },
        "id": "j50g20Bmk5nT",
        "outputId": "c7fb65a3-4ff2-4931-cffd-b5111872ff15"
      },
      "execution_count": 83,
      "outputs": [
        {
          "output_type": "execute_result",
          "data": {
            "text/plain": [
              "['Mary', 'is', 'friendly.']"
            ]
          },
          "metadata": {},
          "execution_count": 83
        }
      ]
    },
    {
      "cell_type": "code",
      "source": [
        "w1 = \"out-of-date\"\n",
        "w1.split('-')"
      ],
      "metadata": {
        "colab": {
          "base_uri": "https://localhost:8080/"
        },
        "id": "0V7u7e6vlA_O",
        "outputId": "6b91eb8d-ba24-49bf-b859-b1c4ed8a00b0"
      },
      "execution_count": 84,
      "outputs": [
        {
          "output_type": "execute_result",
          "data": {
            "text/plain": [
              "['out', 'of', 'date']"
            ]
          },
          "metadata": {},
          "execution_count": 84
        }
      ]
    },
    {
      "cell_type": "code",
      "source": [
        "w1 = \"Mary\"\n",
        "w2 = \"is\"\n",
        "w3 = \"friendly\""
      ],
      "metadata": {
        "id": "4synMCfqlHtX"
      },
      "execution_count": 85,
      "outputs": []
    },
    {
      "cell_type": "code",
      "source": [
        "wordlist = [w1,w2,w3]\n",
        "wordlist"
      ],
      "metadata": {
        "colab": {
          "base_uri": "https://localhost:8080/"
        },
        "id": "g3Wz6u0wlMmY",
        "outputId": "7c073e13-b358-405a-fdb5-9900fcf624a1"
      },
      "execution_count": 87,
      "outputs": [
        {
          "output_type": "execute_result",
          "data": {
            "text/plain": [
              "['Mary', 'is', 'friendly']"
            ]
          },
          "metadata": {},
          "execution_count": 87
        }
      ]
    },
    {
      "cell_type": "code",
      "source": [
        "w2 = \"out-of-date\"\n",
        "mysplit=w2.split('-')\n",
        "mysplit"
      ],
      "metadata": {
        "colab": {
          "base_uri": "https://localhost:8080/"
        },
        "id": "hkOYBK9JlVHI",
        "outputId": "2cdbdc14-5147-4e7d-d252-d558c289a59e"
      },
      "execution_count": 88,
      "outputs": [
        {
          "output_type": "execute_result",
          "data": {
            "text/plain": [
              "['out', 'of', 'date']"
            ]
          },
          "metadata": {},
          "execution_count": 88
        }
      ]
    },
    {
      "cell_type": "markdown",
      "source": [
        "## ''.join()"
      ],
      "metadata": {
        "id": "MetD8YOlljI8"
      }
    },
    {
      "cell_type": "code",
      "source": [
        "' '.join(wordlist)"
      ],
      "metadata": {
        "colab": {
          "base_uri": "https://localhost:8080/",
          "height": 35
        },
        "id": "8X0V4c-Illib",
        "outputId": "fc890cfd-fcbc-4799-eddc-145ca33f22b6"
      },
      "execution_count": 90,
      "outputs": [
        {
          "output_type": "execute_result",
          "data": {
            "text/plain": [
              "'Mary is friendly'"
            ],
            "application/vnd.google.colaboratory.intrinsic+json": {
              "type": "string"
            }
          },
          "metadata": {},
          "execution_count": 90
        }
      ]
    },
    {
      "cell_type": "code",
      "source": [
        "'-'.join(wordlist)"
      ],
      "metadata": {
        "colab": {
          "base_uri": "https://localhost:8080/",
          "height": 35
        },
        "id": "5MXHGpPmlrNM",
        "outputId": "a48e0ce2-9b25-489e-e382-df09dd46d0e5"
      },
      "execution_count": 91,
      "outputs": [
        {
          "output_type": "execute_result",
          "data": {
            "text/plain": [
              "'Mary-is-friendly'"
            ],
            "application/vnd.google.colaboratory.intrinsic+json": {
              "type": "string"
            }
          },
          "metadata": {},
          "execution_count": 91
        }
      ]
    },
    {
      "cell_type": "code",
      "source": [
        "' '.join(mysplit)"
      ],
      "metadata": {
        "colab": {
          "base_uri": "https://localhost:8080/",
          "height": 35
        },
        "id": "tiTjMpBRluTf",
        "outputId": "c88884cb-1d59-4378-b174-170810a015b4"
      },
      "execution_count": 92,
      "outputs": [
        {
          "output_type": "execute_result",
          "data": {
            "text/plain": [
              "'out of date'"
            ],
            "application/vnd.google.colaboratory.intrinsic+json": {
              "type": "string"
            }
          },
          "metadata": {},
          "execution_count": 92
        }
      ]
    },
    {
      "cell_type": "markdown",
      "source": [
        "## data.lower(), data.upper()"
      ],
      "metadata": {
        "id": "FrvBq1v8l3hG"
      }
    },
    {
      "cell_type": "code",
      "source": [
        "w1.lower()"
      ],
      "metadata": {
        "colab": {
          "base_uri": "https://localhost:8080/",
          "height": 35
        },
        "id": "W0WcwxmLl7Ed",
        "outputId": "5a701d33-299b-4f34-861e-10b7172e7b79"
      },
      "execution_count": 93,
      "outputs": [
        {
          "output_type": "execute_result",
          "data": {
            "text/plain": [
              "'mary'"
            ],
            "application/vnd.google.colaboratory.intrinsic+json": {
              "type": "string"
            }
          },
          "metadata": {},
          "execution_count": 93
        }
      ]
    },
    {
      "cell_type": "code",
      "source": [
        "w1.upper()"
      ],
      "metadata": {
        "colab": {
          "base_uri": "https://localhost:8080/",
          "height": 35
        },
        "id": "1XEQakZyl9xK",
        "outputId": "793c4291-3419-4c9f-c46b-364d283aff5d"
      },
      "execution_count": 94,
      "outputs": [
        {
          "output_type": "execute_result",
          "data": {
            "text/plain": [
              "'MARY'"
            ],
            "application/vnd.google.colaboratory.intrinsic+json": {
              "type": "string"
            }
          },
          "metadata": {},
          "execution_count": 94
        }
      ]
    },
    {
      "cell_type": "markdown",
      "source": [
        "string index"
      ],
      "metadata": {
        "id": "ROXohUcpmA8W"
      }
    },
    {
      "cell_type": "code",
      "source": [
        "len(w1)"
      ],
      "metadata": {
        "colab": {
          "base_uri": "https://localhost:8080/"
        },
        "id": "MvqzuKLumCX0",
        "outputId": "84f1285f-fc42-4475-b39a-5a3b1fbe00a0"
      },
      "execution_count": 95,
      "outputs": [
        {
          "output_type": "execute_result",
          "data": {
            "text/plain": [
              "4"
            ]
          },
          "metadata": {},
          "execution_count": 95
        }
      ]
    },
    {
      "cell_type": "code",
      "source": [
        "w1[0]\n",
        "w1[-1]\n",
        "w1[1:3]\n",
        "w1[0:]\n",
        "w1[:]"
      ],
      "metadata": {
        "colab": {
          "base_uri": "https://localhost:8080/",
          "height": 35
        },
        "id": "JhPvyXZkmQqw",
        "outputId": "cc41e91d-356f-4689-da1e-888f6bd2c927"
      },
      "execution_count": 101,
      "outputs": [
        {
          "output_type": "execute_result",
          "data": {
            "text/plain": [
              "'Mary'"
            ],
            "application/vnd.google.colaboratory.intrinsic+json": {
              "type": "string"
            }
          },
          "metadata": {},
          "execution_count": 101
        }
      ]
    },
    {
      "cell_type": "code",
      "source": [
        "w = \"mary\"\n",
        "ini = w[0].upper()\n",
        "w = ini + w[1:]\n",
        "print(w)\n",
        "\n",
        "w = \"MARY\"\n",
        "ini = w[1:].lower()\n",
        "w=w[0]+ini\n",
        "print(w)"
      ],
      "metadata": {
        "colab": {
          "base_uri": "https://localhost:8080/"
        },
        "id": "Ia1qXuBWmd_d",
        "outputId": "bb7a8beb-1eb4-49f7-8115-684b04a1d88f"
      },
      "execution_count": 103,
      "outputs": [
        {
          "output_type": "stream",
          "name": "stdout",
          "text": [
            "Mary\n",
            "Mary\n"
          ]
        }
      ]
    },
    {
      "cell_type": "code",
      "source": [
        "w1 = \"Mary is friendly.\"\n",
        "a1 = w1[0:4]\n",
        "a2 = w1[5:8]\n",
        "a3 = w1[8:]\n",
        "sen=(a2[0].upper()+a2[1:]+\" \" + a1 +\" \"+ a3[0:8] + \"?\")\n",
        "sen\n",
        "\n"
      ],
      "metadata": {
        "colab": {
          "base_uri": "https://localhost:8080/",
          "height": 35
        },
        "id": "2YzGNS_rm93r",
        "outputId": "402b5b0c-9a9c-4b5e-ee0c-76fb76edae4c"
      },
      "execution_count": 117,
      "outputs": [
        {
          "output_type": "execute_result",
          "data": {
            "text/plain": [
              "'Is  Mary friendly?'"
            ],
            "application/vnd.google.colaboratory.intrinsic+json": {
              "type": "string"
            }
          },
          "metadata": {},
          "execution_count": 117
        }
      ]
    }
  ]
}